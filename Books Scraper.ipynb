{
 "cells": [
  {
   "cell_type": "markdown",
   "id": "ad0120ae-5e52-43ba-8ca2-ceb36444c21f",
   "metadata": {},
   "source": [
    "## Import Libraries"
   ]
  },
  {
   "cell_type": "code",
   "execution_count": 1,
   "id": "5b843e52-2c59-41df-bbbe-97bbb76175f9",
   "metadata": {},
   "outputs": [],
   "source": [
    "import pandas as pd\n",
    "import requests\n",
    "from bs4 import BeautifulSoup\n",
    "from tqdm import tqdm"
   ]
  },
  {
   "cell_type": "markdown",
   "id": "b68cd1ed-2789-4268-a95e-87ef03e3752a",
   "metadata": {},
   "source": [
    "## Load beautifulSoup"
   ]
  },
  {
   "cell_type": "code",
   "execution_count": 2,
   "id": "61a69816-9074-42a4-bf09-5859f0a6bdd0",
   "metadata": {},
   "outputs": [
    {
     "data": {
      "text/plain": [
       "'A Light in the Attic'"
      ]
     },
     "execution_count": 2,
     "metadata": {},
     "output_type": "execute_result"
    }
   ],
   "source": [
    "link = 'https://books.toscrape.com/'\n",
    "res = requests.get(link)\n",
    "soup = BeautifulSoup(res.text, 'html.parser')\n",
    "soup.find('img').get('alt')"
   ]
  },
  {
   "cell_type": "markdown",
   "id": "44b661a7-a892-4c14-823e-a7e58b055178",
   "metadata": {},
   "source": [
    "## Extract data into first page"
   ]
  },
  {
   "cell_type": "code",
   "execution_count": 3,
   "id": "d92ddaa1-5894-4c6a-9d16-cbdf06f3be3f",
   "metadata": {},
   "outputs": [],
   "source": [
    "data= []\n",
    "for sp in soup.find_all('li', class_ = 'col-xs-6 col-sm-4 col-md-3 col-lg-3'):\n",
    "    \n",
    "    title = sp.find('img').get('alt')\n",
    "    book_link  = 'https://books.toscrape.com/catalogue/' + sp.find('a').get('href')[10:]\n",
    "    img_link = 'https://books.toscrape.com/' + sp.find('img').get('src')\n",
    "    rating = sp.find('p').get('class')[-1]\n",
    "    price = sp.find('p', class_ = 'price_color').text[1:]\n",
    "    stock = sp.find('p', class_=\"instock availability\").text.strip()\n",
    "    \n",
    "    data.append([title, rating, price, stock, book_link, img_link])"
   ]
  },
  {
   "cell_type": "markdown",
   "id": "f522b8f4-bd32-4b5e-b401-ddc9940802ba",
   "metadata": {},
   "source": [
    "## Extract data All the first pages"
   ]
  },
  {
   "cell_type": "code",
   "execution_count": 4,
   "id": "a6919033-6cf4-4478-bd2e-f4806217ac42",
   "metadata": {},
   "outputs": [
    {
     "name": "stderr",
     "output_type": "stream",
     "text": [
      "100%|██████████████████████████████████████████████████████████████████████████████████| 50/50 [01:36<00:00,  1.92s/it]\n"
     ]
    }
   ],
   "source": [
    "data_1 = []\n",
    "for i in tqdm(range(1,51)):\n",
    "    \n",
    "    link = 'https://books.toscrape.com/catalogue/page-' + str(i) + '.html'\n",
    "    res = requests.get(link)\n",
    "    soup = BeautifulSoup(res.text, 'html.parser')\n",
    "    \n",
    "    for sp in soup.find_all('li', class_ = 'col-xs-6 col-sm-4 col-md-3 col-lg-3'):\n",
    "            \n",
    "        title = sp.find('img').get('alt')\n",
    "        book_link  = 'https://books.toscrape.com/catalogue/' + sp.find('a').get('href')\n",
    "        img_link = 'https://books.toscrape.com/' + sp.find('img').get('src')\n",
    "        rating = sp.find('p').get('class')[-1]\n",
    "        price = sp.find('p', class_ = 'price_color').text[2:]\n",
    "        stock = sp.find('p', class_=\"instock availability\").text.strip()\n",
    "\n",
    "        data_1.append([title, rating, price, stock, book_link, img_link])"
   ]
  },
  {
   "cell_type": "code",
   "execution_count": 5,
   "id": "c7ec73f0-9fe8-4eb9-b0e6-f0b8146caf23",
   "metadata": {},
   "outputs": [],
   "source": [
    "df = pd.DataFrame(data_1, columns = ['title', 'price', 'rating', 'stock', 'book_link', 'img_link'])\n",
    "df.to_csv(\"books.csv\", index = False)"
   ]
  },
  {
   "cell_type": "code",
   "execution_count": 6,
   "id": "ca7137e0-f8ea-4691-829a-e018ecb37f1d",
   "metadata": {},
   "outputs": [
    {
     "name": "stderr",
     "output_type": "stream",
     "text": [
      "100%|██████████████████████████████████████████████████████████████████████████████| 1000/1000 [24:34<00:00,  1.47s/it]\n"
     ]
    }
   ],
   "source": [
    "data_2 = []\n",
    "\n",
    "for i in tqdm(df['book_link']):\n",
    "    \n",
    "    res = requests.get(i)\n",
    "    soup = BeautifulSoup(res.text, 'html.parser')\n",
    "    \n",
    "    book_type = soup.find('ul', class_ = 'breadcrumb').find_all('a')[-1].text\n",
    "    upc  = soup.find('table', class_ = 'table table-striped').find_all('td')[0].text\n",
    "    price_excl_tax = soup.find('table', class_ = 'table table-striped').find_all('td')[2].text[2:] \n",
    "    price_incl_tax = soup.find('table', class_ = 'table table-striped').find_all('td')[3].text[2:]\n",
    "    tax = soup.find('table', class_ = 'table table-striped').find_all('td')[4].text[2:]\n",
    "    availability = soup.find('table', class_ = 'table table-striped').find_all('td')[5].text   \n",
    "    reviews = soup.find('table', class_ = 'table table-striped').find_all('td')[6].text\n",
    "    \n",
    "    data_2.append([book_type, upc, price_excl_tax, price_incl_tax, tax, availability, reviews])"
   ]
  },
  {
   "cell_type": "code",
   "execution_count": 14,
   "id": "28f98763-4160-4f86-a0b6-88bc7025a32f",
   "metadata": {},
   "outputs": [
    {
     "ename": "AttributeError",
     "evalue": "'list' object has no attribute 'head'",
     "output_type": "error",
     "traceback": [
      "\u001b[1;31m---------------------------------------------------------------------------\u001b[0m",
      "\u001b[1;31mAttributeError\u001b[0m                            Traceback (most recent call last)",
      "Cell \u001b[1;32mIn[14], line 1\u001b[0m\n\u001b[1;32m----> 1\u001b[0m data_1\u001b[38;5;241m.\u001b[39mhead()\n",
      "\u001b[1;31mAttributeError\u001b[0m: 'list' object has no attribute 'head'"
     ]
    }
   ],
   "source": [
    "df."
   ]
  },
  {
   "cell_type": "code",
   "execution_count": 13,
   "id": "4f21f805-0652-4342-91d4-ab1023537015",
   "metadata": {},
   "outputs": [
    {
     "data": {
      "text/html": [
       "<div>\n",
       "<style scoped>\n",
       "    .dataframe tbody tr th:only-of-type {\n",
       "        vertical-align: middle;\n",
       "    }\n",
       "\n",
       "    .dataframe tbody tr th {\n",
       "        vertical-align: top;\n",
       "    }\n",
       "\n",
       "    .dataframe thead th {\n",
       "        text-align: right;\n",
       "    }\n",
       "</style>\n",
       "<table border=\"1\" class=\"dataframe\">\n",
       "  <thead>\n",
       "    <tr style=\"text-align: right;\">\n",
       "      <th></th>\n",
       "      <th>book_type</th>\n",
       "      <th>upc</th>\n",
       "      <th>price_excl_tax</th>\n",
       "      <th>price_incl_tax</th>\n",
       "      <th>tax</th>\n",
       "      <th>availability</th>\n",
       "      <th>reviews</th>\n",
       "    </tr>\n",
       "  </thead>\n",
       "  <tbody>\n",
       "    <tr>\n",
       "      <th>0</th>\n",
       "      <td>Poetry</td>\n",
       "      <td>a897fe39b1053632</td>\n",
       "      <td>51.77</td>\n",
       "      <td>51.77</td>\n",
       "      <td>0.00</td>\n",
       "      <td>In stock (22 available)</td>\n",
       "      <td>0</td>\n",
       "    </tr>\n",
       "    <tr>\n",
       "      <th>1</th>\n",
       "      <td>Historical Fiction</td>\n",
       "      <td>90fa61229261140a</td>\n",
       "      <td>53.74</td>\n",
       "      <td>53.74</td>\n",
       "      <td>0.00</td>\n",
       "      <td>In stock (20 available)</td>\n",
       "      <td>0</td>\n",
       "    </tr>\n",
       "    <tr>\n",
       "      <th>2</th>\n",
       "      <td>Fiction</td>\n",
       "      <td>6957f44c3847a760</td>\n",
       "      <td>50.10</td>\n",
       "      <td>50.10</td>\n",
       "      <td>0.00</td>\n",
       "      <td>In stock (20 available)</td>\n",
       "      <td>0</td>\n",
       "    </tr>\n",
       "    <tr>\n",
       "      <th>3</th>\n",
       "      <td>Mystery</td>\n",
       "      <td>e00eb4fd7b871a48</td>\n",
       "      <td>47.82</td>\n",
       "      <td>47.82</td>\n",
       "      <td>0.00</td>\n",
       "      <td>In stock (20 available)</td>\n",
       "      <td>0</td>\n",
       "    </tr>\n",
       "    <tr>\n",
       "      <th>4</th>\n",
       "      <td>History</td>\n",
       "      <td>4165285e1663650f</td>\n",
       "      <td>54.23</td>\n",
       "      <td>54.23</td>\n",
       "      <td>0.00</td>\n",
       "      <td>In stock (20 available)</td>\n",
       "      <td>0</td>\n",
       "    </tr>\n",
       "  </tbody>\n",
       "</table>\n",
       "</div>"
      ],
      "text/plain": [
       "            book_type               upc price_excl_tax price_incl_tax   tax  \\\n",
       "0              Poetry  a897fe39b1053632          51.77          51.77  0.00   \n",
       "1  Historical Fiction  90fa61229261140a          53.74          53.74  0.00   \n",
       "2             Fiction  6957f44c3847a760          50.10          50.10  0.00   \n",
       "3             Mystery  e00eb4fd7b871a48          47.82          47.82  0.00   \n",
       "4             History  4165285e1663650f          54.23          54.23  0.00   \n",
       "\n",
       "              availability reviews  \n",
       "0  In stock (22 available)       0  \n",
       "1  In stock (20 available)       0  \n",
       "2  In stock (20 available)       0  \n",
       "3  In stock (20 available)       0  \n",
       "4  In stock (20 available)       0  "
      ]
     },
     "execution_count": 13,
     "metadata": {},
     "output_type": "execute_result"
    }
   ],
   "source": [
    "df1 = pd.DataFrame(data_2, columns = ['book_type', 'upc', 'price_excl_tax', 'price_incl_tax', 'tax', 'availability', 'reviews'])\n",
    "df1.head()"
   ]
  }
 ],
 "metadata": {
  "kernelspec": {
   "display_name": "Python 3 (ipykernel)",
   "language": "python",
   "name": "python3"
  },
  "language_info": {
   "codemirror_mode": {
    "name": "ipython",
    "version": 3
   },
   "file_extension": ".py",
   "mimetype": "text/x-python",
   "name": "python",
   "nbconvert_exporter": "python",
   "pygments_lexer": "ipython3",
   "version": "3.12.7"
  }
 },
 "nbformat": 4,
 "nbformat_minor": 5
}
